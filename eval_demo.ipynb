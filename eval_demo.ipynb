{
 "cells": [
  {
   "cell_type": "code",
   "execution_count": 1,
   "metadata": {},
   "outputs": [],
   "source": [
    "from mg_lb.eval.prep import prep_for_eval, eval_data_set, network_sentences\n",
    "from mg_lb.eval.visualize import sort_results\n",
    "from mg_lb.eval.losses import f1_multi_layer, f1_ace"
   ]
  },
  {
   "cell_type": "markdown",
   "metadata": {},
   "source": [
    "### Evaluating a dataset on a pretrained model from the paper\n"
   ]
  },
  {
   "cell_type": "code",
   "execution_count": 2,
   "metadata": {},
   "outputs": [
    {
     "name": "stdout",
     "output_type": "stream",
     "text": [
      "Building model...\n",
      "643 out of 15862 words unknown\n",
      "Restoring model from checkpoint...\n",
      "F1: 0.8302\n"
     ]
    }
   ],
   "source": [
    "problem = 'ACE05' # one of ['ontonotes', 'ACE05']\n",
    "dset = 'test.txt' # one of ['train.txt', 'val.txt', 'test.txt']\n",
    "save_name = 'ACE05_83.10' # one of ['ACE05_83.10', 'ACE05_74.87', 'ontonotes_87.59', 'ontonotes_89.25']\n",
    "\n",
    "# Load the model\n",
    "model, vocab, args, prob_dict = prep_for_eval(save_name, paper_model=True, gpu=True)\n",
    "\n",
    "# Run forward pass on dataset\n",
    "res_all, iter_all = eval_data_set(problem, dset, args, vocab, model, prob_dict, batch_size=2000)\n",
    "\n",
    "# Process the returns from the network\n",
    "res_out = sort_results(res_all, iter_all, vocab, problem, cutoff=0.25)\n",
    "\n",
    "# Calculate F1 score\n",
    "if problem == 'ACE05':\n",
    "    prec, rec, f1, wrong, acc_wrong, cl_wrong = f1_ace(res_out['cluster_preds'], res_out['labels'], \n",
    "                                                       remove_np=True)\n",
    "elif problem == 'ontonotes':\n",
    "    prec, rec, f1, wrong = f1_multi_layer(res_out['cluster_preds'], res_out['labels'], add_bs=True,\n",
    "                                          remove_np=True)\n",
    "    \n",
    "print('F1:', \"{:.4f}\".format(f1))"
   ]
  },
  {
   "cell_type": "markdown",
   "metadata": {},
   "source": [
    "### Running a trained model on a list of sentences"
   ]
  },
  {
   "cell_type": "code",
   "execution_count": null,
   "metadata": {},
   "outputs": [
    {
     "name": "stdout",
     "output_type": "stream",
     "text": [
      "Building model...\n"
     ]
    }
   ],
   "source": [
    "problem = 'ACE05' # one of ['ontonotes', 'ACE05']\n",
    "save_name = 'ACE05_83.10' # one of ['ACE05_83.10', 'ACE05_74.87', 'ontonotes_87.59', 'ontonotes_89.25']\n",
    "\n",
    "# Load the model\n",
    "model, vocab, args, prob_dict = prep_for_eval(save_name, paper_model=True, gpu=True)\n",
    "\n",
    "# Input sentences\n",
    "sentences = ['The Prime Minister of the UK met with Donald Trump on Thursday.']\n",
    "\n",
    "# Run forward pass\n",
    "res_sents, iter_sents = network_sentences(sentences, problem, args, vocab, model, prob_dict=prob_dict, gpu=True)\n",
    "\n",
    "# Process returns\n",
    "res_out = sort_results(res_sents, iter_sents, vocab, problem, cutoff=0.25)"
   ]
  },
  {
   "cell_type": "code",
   "execution_count": null,
   "metadata": {},
   "outputs": [],
   "source": [
    "# Nested structure of the entities. Dict keys denote layers\n",
    "res_out['cluster_words']"
   ]
  },
  {
   "cell_type": "code",
   "execution_count": null,
   "metadata": {},
   "outputs": [],
   "source": [
    "# Labels for each cluster\n",
    "res_out['cluster_preds']"
   ]
  },
  {
   "cell_type": "markdown",
   "metadata": {},
   "source": [
    "### Evaluating a new trained model/ new dataset"
   ]
  },
  {
   "cell_type": "code",
   "execution_count": null,
   "metadata": {},
   "outputs": [],
   "source": []
  },
  {
   "cell_type": "code",
   "execution_count": null,
   "metadata": {},
   "outputs": [],
   "source": []
  }
 ],
 "metadata": {
  "kernelspec": {
   "display_name": "Python 3",
   "language": "python",
   "name": "python3"
  },
  "language_info": {
   "codemirror_mode": {
    "name": "ipython",
    "version": 3
   },
   "file_extension": ".py",
   "mimetype": "text/x-python",
   "name": "python",
   "nbconvert_exporter": "python",
   "pygments_lexer": "ipython3",
   "version": "3.6.7"
  }
 },
 "nbformat": 4,
 "nbformat_minor": 2
}
